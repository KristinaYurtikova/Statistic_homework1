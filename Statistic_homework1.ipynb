{
 "cells": [
  {
   "cell_type": "markdown",
   "id": "e4613470",
   "metadata": {},
   "source": [
    "Задание 1\n",
    "Из колоды в 52 карты извлекаются случайным образом 4 карты. \n",
    "a) Найти вероятность того, что все карты – крести.\n",
    "\n",
    "В колоде имеется 52/4 крестовых карт. Вероятность того что первая карта будет крести 13/52, \n",
    "вероятность что вторая карта будет крести – 12/51, и так далее\n",
    "\n",
    "Вероятность того что все черыре карты будут крести\n",
    "\n",
    "<math xmlns=\"http://www.w3.org/1998/Math/MathML\" display=\"block\">\n",
    "  <mfrac>\n",
    "    <mn>13</mn>\n",
    "    <mn>52</mn>\n",
    "  </mfrac>\n",
    "  <mo>&#x22C5;</mo>\n",
    "  <mfrac>\n",
    "    <mn>12</mn>\n",
    "    <mn>51</mn>\n",
    "  </mfrac>\n",
    "  <mo>&#x22C5;</mo>\n",
    "  <mfrac>\n",
    "    <mn>11</mn>\n",
    "    <mn>50</mn>\n",
    "  </mfrac>\n",
    "  <mo>&#x22C5;</mo>\n",
    "  <mfrac>\n",
    "    <mn>10</mn>\n",
    "    <mn>49</mn>\n",
    "  </mfrac>\n",
    "  <mo>=</mo>\n",
    "  <mn>0.26</mn>\n",
    "  <mi mathvariant=\"normal\">%</mi>\n",
    "</math>"
   ]
  },
  {
   "cell_type": "code",
   "execution_count": 5,
   "id": "1f831cfe",
   "metadata": {},
   "outputs": [
    {
     "data": {
      "text/plain": [
       "0.26410564225690275"
      ]
     },
     "execution_count": 5,
     "metadata": {},
     "output_type": "execute_result"
    }
   ],
   "source": [
    "13/52*12/51*11/50*10/49*100"
   ]
  },
  {
   "cell_type": "markdown",
   "id": "1813eb0c",
   "metadata": {},
   "source": [
    "Найти вероятность, что среди этих карт окажется хотя бы один туз.\n",
    "\n",
    "Разобьем задачу на 4 случая:\n",
    "1 туз и 3 не туза, 2 туза и 2 не туза, 3 туза и 1 не туз, 4 туза. Всего в колоде 4 туза и 48 не тузов.\n",
    "<math xmlns=\"http://www.w3.org/1998/Math/MathML\" display=\"block\">\n",
    "  <mo stretchy=\"false\">(</mo>\n",
    "  <mfrac>\n",
    "    <mn>4</mn>\n",
    "    <mn>52</mn>\n",
    "  </mfrac>\n",
    "  <mo>&#x22C5;</mo>\n",
    "  <mfrac>\n",
    "    <mn>48</mn>\n",
    "    <mn>51</mn>\n",
    "  </mfrac>\n",
    "  <mo>&#x22C5;</mo>\n",
    "  <mfrac>\n",
    "    <mn>47</mn>\n",
    "    <mn>50</mn>\n",
    "  </mfrac>\n",
    "  <mo>&#x22C5;</mo>\n",
    "  <mfrac>\n",
    "    <mn>46</mn>\n",
    "    <mn>49</mn>\n",
    "  </mfrac>\n",
    "  <mo stretchy=\"false\">)</mo>\n",
    "  <mo>+</mo>\n",
    "  <mo stretchy=\"false\">(</mo>\n",
    "  <mfrac>\n",
    "    <mn>4</mn>\n",
    "    <mn>52</mn>\n",
    "  </mfrac>\n",
    "  <mo>&#x22C5;</mo>\n",
    "  <mfrac>\n",
    "    <mn>3</mn>\n",
    "    <mn>51</mn>\n",
    "  </mfrac>\n",
    "  <mo>&#x22C5;</mo>\n",
    "  <mfrac>\n",
    "    <mn>48</mn>\n",
    "    <mn>50</mn>\n",
    "  </mfrac>\n",
    "  <mo>&#x22C5;</mo>\n",
    "  <mfrac>\n",
    "    <mn>47</mn>\n",
    "    <mn>49</mn>\n",
    "  </mfrac>\n",
    "  <mo stretchy=\"false\">)</mo>\n",
    "  <mo>+</mo>\n",
    "  <mo stretchy=\"false\">(</mo>\n",
    "  <mfrac>\n",
    "    <mn>4</mn>\n",
    "    <mn>52</mn>\n",
    "  </mfrac>\n",
    "  <mo>&#x22C5;</mo>\n",
    "  <mfrac>\n",
    "    <mn>3</mn>\n",
    "    <mn>51</mn>\n",
    "  </mfrac>\n",
    "  <mo>&#x22C5;</mo>\n",
    "  <mfrac>\n",
    "    <mn>2</mn>\n",
    "    <mn>50</mn>\n",
    "  </mfrac>\n",
    "  <mo>&#x22C5;</mo>\n",
    "  <mfrac>\n",
    "    <mn>48</mn>\n",
    "    <mn>49</mn>\n",
    "  </mfrac>\n",
    "  <mo stretchy=\"false\">)</mo>\n",
    "  <mo>+</mo>\n",
    "  <mo stretchy=\"false\">(</mo>\n",
    "  <mfrac>\n",
    "    <mn>4</mn>\n",
    "    <mn>52</mn>\n",
    "  </mfrac>\n",
    "  <mo>&#x22C5;</mo>\n",
    "  <mfrac>\n",
    "    <mn>3</mn>\n",
    "    <mn>51</mn>\n",
    "  </mfrac>\n",
    "  <mo>&#x22C5;</mo>\n",
    "  <mfrac>\n",
    "    <mn>2</mn>\n",
    "    <mn>50</mn>\n",
    "  </mfrac>\n",
    "  <mo>&#x22C5;</mo>\n",
    "  <mfrac>\n",
    "    <mn>1</mn>\n",
    "    <mn>49</mn>\n",
    "  </mfrac>\n",
    "  <mo stretchy=\"false\">)</mo>\n",
    "  <mo>=</mo>\n",
    "  <mn>6.82</mn>\n",
    "  <mi mathvariant=\"normal\">%</mi>\n",
    "</math>\n"
   ]
  },
  {
   "cell_type": "code",
   "execution_count": 2,
   "id": "4ca51a90",
   "metadata": {},
   "outputs": [
    {
     "data": {
      "text/plain": [
       "6.8235294117647065"
      ]
     },
     "execution_count": 2,
     "metadata": {},
     "output_type": "execute_result"
    }
   ],
   "source": [
    "(4*48*47*46 + 4*3*48*47 + 4*2*3*48 + 4*3*2*1) / (52*51*50*49) * 100"
   ]
  },
  {
   "cell_type": "markdown",
   "id": "9864d74e",
   "metadata": {},
   "source": [
    "Задание 2\n",
    "На входной двери подъезда установлен кодовый замок, содержащий десять кнопок с цифрами от 0 до 9. \n",
    "Код содержит три цифры, которые нужно нажать одновременно. \n",
    "Какова вероятность того, что человек, не знающий код, откроет дверь с первой попытки?\n",
    "\n",
    "\n",
    "<math xmlns=\"http://www.w3.org/1998/Math/MathML\" display=\"block\">\n",
    "  <mfrac>\n",
    "    <mn>1</mn>\n",
    "    <msubsup>\n",
    "      <mi>C</mi>\n",
    "      <mrow data-mjx-texclass=\"ORD\">\n",
    "        <mn>10</mn>\n",
    "      </mrow>\n",
    "      <mn>3</mn>\n",
    "    </msubsup>\n",
    "  </mfrac>\n",
    "  <mo>=</mo>\n",
    "  <mfrac>\n",
    "    <mrow>\n",
    "      <mn>7</mn>\n",
    "      <mo>!</mo>\n",
    "      <mo>&#x22C5;</mo>\n",
    "      <mn>3</mn>\n",
    "      <mo>!</mo>\n",
    "    </mrow>\n",
    "    <mrow>\n",
    "      <mn>10</mn>\n",
    "      <mo>!</mo>\n",
    "    </mrow>\n",
    "  </mfrac>\n",
    "  <mo>=</mo>\n",
    "  <mfrac>\n",
    "    <mn>1</mn>\n",
    "    <mn>120</mn>\n",
    "  </mfrac>\n",
    "  <mo>=</mo>\n",
    "  <mn>0.83</mn>\n",
    "  <mi mathvariant=\"normal\">%</mi>\n",
    "</math>"
   ]
  },
  {
   "cell_type": "code",
   "execution_count": 13,
   "id": "a17518d5",
   "metadata": {},
   "outputs": [
    {
     "data": {
      "text/plain": [
       "0.8333333333333334"
      ]
     },
     "execution_count": 13,
     "metadata": {},
     "output_type": "execute_result"
    }
   ],
   "source": [
    "1/120*100\n"
   ]
  },
  {
   "cell_type": "markdown",
   "id": "8b976bc7",
   "metadata": {},
   "source": [
    "Задание 3\n",
    "В ящике имеется 15 деталей, из которых 9 окрашены. \n",
    "Рабочий случайным образом извлекает 3 детали. Какова вероятность того, что все извлеченные детали окрашены?\n",
    "\n",
    "<math xmlns=\"http://www.w3.org/1998/Math/MathML\" display=\"block\">\n",
    "  <mfrac>\n",
    "    <mn>9</mn>\n",
    "    <mn>15</mn>\n",
    "  </mfrac>\n",
    "  <mo>&#x22C5;</mo>\n",
    "  <mfrac>\n",
    "    <mn>8</mn>\n",
    "    <mn>14</mn>\n",
    "  </mfrac>\n",
    "  <mo>&#x22C5;</mo>\n",
    "  <mfrac>\n",
    "    <mn>7</mn>\n",
    "    <mn>13</mn>\n",
    "  </mfrac>\n",
    "  <mo>=</mo>\n",
    "  <mn>18.46</mn>\n",
    "  <mi mathvariant=\"normal\">%</mi>\n",
    "</math>\n"
   ]
  },
  {
   "cell_type": "code",
   "execution_count": 16,
   "id": "817cc49d",
   "metadata": {},
   "outputs": [
    {
     "data": {
      "text/plain": [
       "18.461538461538463"
      ]
     },
     "execution_count": 16,
     "metadata": {},
     "output_type": "execute_result"
    }
   ],
   "source": [
    "(9*8*7) / (15*14*13) * 100"
   ]
  },
  {
   "cell_type": "markdown",
   "id": "494478e6",
   "metadata": {},
   "source": [
    "Задание 4\n",
    "В лотерее 100 билетов. Из них 2 выигрышных. Какова вероятность того, что 2 приобретенных билета окажутся выигрышными?\n",
    "\n",
    "<math xmlns=\"http://www.w3.org/1998/Math/MathML\" display=\"block\">\n",
    "  <mfrac>\n",
    "    <mn>2</mn>\n",
    "    <mn>100</mn>\n",
    "  </mfrac>\n",
    "  <mo>&#x22C5;</mo>\n",
    "  <mfrac>\n",
    "    <mn>1</mn>\n",
    "    <mn>99</mn>\n",
    "  </mfrac>\n",
    "  <mo>=</mo>\n",
    "  <mn>0.02</mn>\n",
    "  <mi mathvariant=\"normal\">%</mi>\n",
    "</math>"
   ]
  },
  {
   "cell_type": "code",
   "execution_count": 23,
   "id": "9b407cc6",
   "metadata": {},
   "outputs": [
    {
     "data": {
      "text/plain": [
       "0.0202020202020202"
      ]
     },
     "execution_count": 23,
     "metadata": {},
     "output_type": "execute_result"
    }
   ],
   "source": [
    "2/9900*100"
   ]
  },
  {
   "cell_type": "code",
   "execution_count": null,
   "id": "24b9233e",
   "metadata": {},
   "outputs": [],
   "source": []
  },
  {
   "cell_type": "code",
   "execution_count": null,
   "id": "5c46a4e2",
   "metadata": {},
   "outputs": [],
   "source": []
  }
 ],
 "metadata": {
  "kernelspec": {
   "display_name": "Python 3 (ipykernel)",
   "language": "python",
   "name": "python3"
  },
  "language_info": {
   "codemirror_mode": {
    "name": "ipython",
    "version": 3
   },
   "file_extension": ".py",
   "mimetype": "text/x-python",
   "name": "python",
   "nbconvert_exporter": "python",
   "pygments_lexer": "ipython3",
   "version": "3.9.13"
  }
 },
 "nbformat": 4,
 "nbformat_minor": 5
}
