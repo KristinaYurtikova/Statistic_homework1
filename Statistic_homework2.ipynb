{
 "cells": [
  {
   "cell_type": "markdown",
   "id": "a9bfbaaf",
   "metadata": {},
   "source": [
    "1. Вероятность того, что стрелок попадет в мишень, выстрелив один раз, равна 0.8. \n",
    "Стрелок выстрелил 100 раз. Найдите вероятность того, что стрелок попадет в цель ровно 85 раз.\n",
    "\n",
    "<math xmlns=\"http://www.w3.org/1998/Math/MathML\" display=\"block\">\n",
    "  <mi>p</mi>\n",
    "  <mo>=</mo>\n",
    "  <msubsup>\n",
    "    <mi>C</mi>\n",
    "    <mrow data-mjx-texclass=\"ORD\">\n",
    "      <mn>100</mn>\n",
    "    </mrow>\n",
    "    <mrow data-mjx-texclass=\"ORD\">\n",
    "      <mn>85</mn>\n",
    "    </mrow>\n",
    "  </msubsup>\n",
    "  <mo>&#x22C5;</mo>\n",
    "  <msup>\n",
    "    <mrow data-mjx-texclass=\"ORD\">\n",
    "      <mn>0.8</mn>\n",
    "    </mrow>\n",
    "    <mrow data-mjx-texclass=\"ORD\">\n",
    "      <mn>85</mn>\n",
    "    </mrow>\n",
    "  </msup>\n",
    "  <mo>&#x22C5;</mo>\n",
    "  <msup>\n",
    "    <mrow data-mjx-texclass=\"ORD\">\n",
    "      <mn>0.2</mn>\n",
    "    </mrow>\n",
    "    <mrow data-mjx-texclass=\"ORD\">\n",
    "      <mn>15</mn>\n",
    "    </mrow>\n",
    "  </msup>\n",
    "  <mo>=</mo>\n",
    "  <mn>0.048</mn>\n",
    "</math>"
   ]
  },
  {
   "cell_type": "code",
   "execution_count": 1,
   "id": "6973345f",
   "metadata": {},
   "outputs": [],
   "source": [
    "import numpy as np\n",
    "from math import factorial as f\n",
    "\n",
    "def choose(n,k):\n",
    "    return f(n) / (f(k) * f(n-k))\n",
    "\n",
    "def bern(p, n, k):\n",
    "    return choose(n,k) * p**(k) * (1 - p)**(n - k)\n",
    "\n",
    "def puas(l,m):\n",
    "    return l**m/f(m)*np.exp(-l)"
   ]
  },
  {
   "cell_type": "code",
   "execution_count": 2,
   "id": "e72e6f7f",
   "metadata": {},
   "outputs": [
    {
     "data": {
      "text/plain": [
       "0.048061793700746355"
      ]
     },
     "execution_count": 2,
     "metadata": {},
     "output_type": "execute_result"
    }
   ],
   "source": [
    "bern(0.8, 100, 85)"
   ]
  },
  {
   "cell_type": "markdown",
   "id": "a6b0faff",
   "metadata": {},
   "source": [
    "2. Вероятность того, что лампочка перегорит в течение первого дня эксплуатации, равна 0.0004. \n",
    "В жилом комплексе после ремонта в один день включили 5000 новых лампочек. К\n",
    "акова вероятность, что ни одна из них не перегорит в первый день?\n",
    "\n",
    "<math xmlns=\"http://www.w3.org/1998/Math/MathML\" display=\"block\">\n",
    "  <mi>P</mi>\n",
    "  <mo>&#x2248;</mo>\n",
    "  <mfrac>\n",
    "    <msup>\n",
    "      <mi>&#x3BB;</mi>\n",
    "      <mi>m</mi>\n",
    "    </msup>\n",
    "    <mrow>\n",
    "      <mi>m</mi>\n",
    "      <mo>!</mo>\n",
    "    </mrow>\n",
    "  </mfrac>\n",
    "  <msup>\n",
    "    <mi>e</mi>\n",
    "    <mrow data-mjx-texclass=\"ORD\">\n",
    "      <mo>&#x2212;</mo>\n",
    "      <mi>&#x3BB;</mi>\n",
    "    </mrow>\n",
    "  </msup>\n",
    "  <mo>&#x2248;</mo>\n",
    "  <mfrac>\n",
    "    <msup>\n",
    "      <mn>2</mn>\n",
    "      <mrow data-mjx-texclass=\"ORD\">\n",
    "        <mn>0</mn>\n",
    "      </mrow>\n",
    "    </msup>\n",
    "    <mrow>\n",
    "      <mn>0</mn>\n",
    "      <mo>!</mo>\n",
    "    </mrow>\n",
    "  </mfrac>\n",
    "  <msup>\n",
    "    <mi>e</mi>\n",
    "    <mrow data-mjx-texclass=\"ORD\">\n",
    "      <mo>&#x2212;</mo>\n",
    "      <mn>2</mn>\n",
    "    </mrow>\n",
    "  </msup>\n",
    "  <mo>&#x2248;</mo>\n",
    "  <mn>0.135</mn>\n",
    "</math>\n",
    "\n"
   ]
  },
  {
   "cell_type": "markdown",
   "id": "8809ec81",
   "metadata": {},
   "source": [
    "\n",
    "<math xmlns=\"http://www.w3.org/1998/Math/MathML\">\n",
    "  <mi>&#x3BB;</mi>\n",
    "  <mo>=</mo>\n",
    "  <mn>5000</mn>\n",
    "  <mo>&#x22C5;</mo>\n",
    "  <mn>0.0004</mn>\n",
    "  <mo>=</mo>\n",
    "  <mn>2</mn>\n",
    "</math>\n",
    "\n",
    "\n"
   ]
  },
  {
   "cell_type": "markdown",
   "id": "57a380d5",
   "metadata": {},
   "source": [
    "<math xmlns=\"http://www.w3.org/1998/Math/MathML\">\n",
    "  <mi>m</mi>\n",
    "  <mo>=</mo>\n",
    "  <mn>0</mn>\n",
    "</math>"
   ]
  },
  {
   "cell_type": "code",
   "execution_count": 4,
   "id": "101f521e",
   "metadata": {},
   "outputs": [],
   "source": [
    "lmbd = 5000*0.0004"
   ]
  },
  {
   "cell_type": "code",
   "execution_count": 5,
   "id": "0db2cee6",
   "metadata": {},
   "outputs": [
    {
     "data": {
      "text/plain": [
       "0.1353352832366127"
      ]
     },
     "execution_count": 5,
     "metadata": {},
     "output_type": "execute_result"
    }
   ],
   "source": [
    "puas(lmbd, 0)"
   ]
  },
  {
   "cell_type": "markdown",
   "id": "78c31ab3",
   "metadata": {},
   "source": [
    " Какова вероятность, что перегорят ровно две?"
   ]
  },
  {
   "cell_type": "markdown",
   "id": "5b57dec9",
   "metadata": {},
   "source": [
    "<math xmlns=\"http://www.w3.org/1998/Math/MathML\" display=\"block\">\n",
    "  <mi>P</mi>\n",
    "  <mo>&#x2248;</mo>\n",
    "  <mfrac>\n",
    "    <msup>\n",
    "      <mi>&#x3BB;</mi>\n",
    "      <mi>m</mi>\n",
    "    </msup>\n",
    "    <mrow>\n",
    "      <mi>m</mi>\n",
    "      <mo>!</mo>\n",
    "    </mrow>\n",
    "  </mfrac>\n",
    "  <msup>\n",
    "    <mi>e</mi>\n",
    "    <mrow data-mjx-texclass=\"ORD\">\n",
    "      <mo>&#x2212;</mo>\n",
    "      <mi>&#x3BB;</mi>\n",
    "    </mrow>\n",
    "  </msup>\n",
    "  <mo>&#x2248;</mo>\n",
    "  <mfrac>\n",
    "    <msup>\n",
    "      <mn>2</mn>\n",
    "      <mrow data-mjx-texclass=\"ORD\">\n",
    "        <mn>2</mn>\n",
    "      </mrow>\n",
    "    </msup>\n",
    "    <mrow>\n",
    "      <mn>2</mn>\n",
    "      <mo>!</mo>\n",
    "    </mrow>\n",
    "  </mfrac>\n",
    "  <msup>\n",
    "    <mi>e</mi>\n",
    "    <mrow data-mjx-texclass=\"ORD\">\n",
    "      <mo>&#x2212;</mo>\n",
    "      <mn>2</mn>\n",
    "    </mrow>\n",
    "  </msup>\n",
    "  <mo>&#x2248;</mo>\n",
    "  <mn>0.27</mn>\n",
    "</math>"
   ]
  },
  {
   "cell_type": "code",
   "execution_count": 7,
   "id": "953f0e50",
   "metadata": {},
   "outputs": [
    {
     "data": {
      "text/plain": [
       "0.2706705664732254"
      ]
     },
     "execution_count": 7,
     "metadata": {},
     "output_type": "execute_result"
    }
   ],
   "source": [
    "puas(lmbd, 2)"
   ]
  },
  {
   "cell_type": "markdown",
   "id": "67329931",
   "metadata": {},
   "source": [
    "3. Монету подбросили 144 раза. Какова вероятность, что орел выпадет ровно 70 раз?"
   ]
  },
  {
   "cell_type": "markdown",
   "id": "9c8eb01f",
   "metadata": {},
   "source": [
    "<math xmlns=\"http://www.w3.org/1998/Math/MathML\" display=\"block\">\n",
    "  <mi>P</mi>\n",
    "  <mo>&#x2248;</mo>\n",
    "  <mn>0.063</mn>\n",
    "</math>"
   ]
  },
  {
   "cell_type": "code",
   "execution_count": 8,
   "id": "057c4aef",
   "metadata": {},
   "outputs": [
    {
     "data": {
      "text/plain": [
       "0.06281178035144776"
      ]
     },
     "execution_count": 8,
     "metadata": {},
     "output_type": "execute_result"
    }
   ],
   "source": [
    "\n",
    "bern(0.5, 144, 70)"
   ]
  },
  {
   "cell_type": "markdown",
   "id": "1559c80c",
   "metadata": {},
   "source": [
    "В первом ящике находится 10 мячей, из которых 7 - белые. Во втором ящике - 11 мячей, из которых 9 белых. \n",
    "Из каждого ящика вытаскивают случайным образом по два мяча. Какова вероятность того, что все мячи белые? \n"
   ]
  },
  {
   "cell_type": "markdown",
   "id": "3e6bac73",
   "metadata": {},
   "source": [
    "<math xmlns=\"http://www.w3.org/1998/Math/MathML\" display=\"block\">\n",
    "  <mi>P</mi>\n",
    "  <mo>=</mo>\n",
    "  <mo stretchy=\"false\">(</mo>\n",
    "  <mfrac>\n",
    "    <mn>7</mn>\n",
    "    <mn>10</mn>\n",
    "  </mfrac>\n",
    "  <mo>&#x22C5;</mo>\n",
    "  <mfrac>\n",
    "    <mn>6</mn>\n",
    "    <mn>9</mn>\n",
    "  </mfrac>\n",
    "  <mo stretchy=\"false\">)</mo>\n",
    "  <mo>&#x22C5;</mo>\n",
    "  <mo stretchy=\"false\">(</mo>\n",
    "  <mfrac>\n",
    "    <mn>9</mn>\n",
    "    <mn>11</mn>\n",
    "  </mfrac>\n",
    "  <mo>&#x22C5;</mo>\n",
    "  <mfrac>\n",
    "    <mn>8</mn>\n",
    "    <mn>10</mn>\n",
    "  </mfrac>\n",
    "  <mo stretchy=\"false\">)</mo>\n",
    "  <mo>&#x2248;</mo>\n",
    "  <mn>0.31</mn>\n",
    "</math>"
   ]
  },
  {
   "cell_type": "code",
   "execution_count": 9,
   "id": "8a94aeab",
   "metadata": {},
   "outputs": [
    {
     "data": {
      "text/plain": [
       "0.3054545454545455"
      ]
     },
     "execution_count": 9,
     "metadata": {},
     "output_type": "execute_result"
    }
   ],
   "source": [
    "(7*6*9*8)/(10*9*11*10)\n"
   ]
  },
  {
   "cell_type": "markdown",
   "id": "35963449",
   "metadata": {},
   "source": [
    "Какова вероятность того, что ровно два мяча белые?\n",
    "\n",
    "6 возможных вариантов = (бб)(чч)+(бч)(бч)+(бч)(чб)+(чб)(бч)+(чб)(чб)+(чч)(бб)\n",
    "\n"
   ]
  },
  {
   "cell_type": "markdown",
   "id": "ab6bb642",
   "metadata": {},
   "source": [
    "<math xmlns=\"http://www.w3.org/1998/Math/MathML\" display=\"block\">\n",
    "  <mi>P</mi>\n",
    "  <mo>&#x2248;</mo>\n",
    "  <mn>0.20</mn>\n",
    "</math>"
   ]
  },
  {
   "cell_type": "code",
   "execution_count": 10,
   "id": "708923e9",
   "metadata": {},
   "outputs": [
    {
     "data": {
      "text/plain": [
       "0.20484848484848484"
      ]
     },
     "execution_count": 10,
     "metadata": {},
     "output_type": "execute_result"
    }
   ],
   "source": [
    "(7/10)*(6/9)*(2/11)*(1/10) + (7/10)*(3/9)*(9/11)*(2/10) + (7/10)*(3/9)*(2/11)*(9/10) + \\\n",
    "(3/10)*(7/9)*(9/11)*(2/10) + (3/10)*(7/9)*(2/11)*(9/10) + (3/10)*(2/9)*(9/11)*(8/10)"
   ]
  },
  {
   "cell_type": "markdown",
   "id": "e89b321a",
   "metadata": {},
   "source": [
    "Какова вероятность того, что хотя бы один мяч белый?\n",
    "\n",
    "1 - вероятность что все черные"
   ]
  },
  {
   "cell_type": "markdown",
   "id": "b9b644e6",
   "metadata": {},
   "source": [
    "<math xmlns=\"http://www.w3.org/1998/Math/MathML\" display=\"block\">\n",
    "  <mi>P</mi>\n",
    "  <mo>&#x2248;</mo>\n",
    "  <mn>0.999</mn>\n",
    "</math>"
   ]
  },
  {
   "cell_type": "code",
   "execution_count": 11,
   "id": "75e22095",
   "metadata": {},
   "outputs": [
    {
     "data": {
      "text/plain": [
       "0.9987878787878788"
      ]
     },
     "execution_count": 11,
     "metadata": {},
     "output_type": "execute_result"
    }
   ],
   "source": [
    "1-(3/10*2/9*2/11*1/10)"
   ]
  },
  {
   "cell_type": "code",
   "execution_count": null,
   "id": "eb801610",
   "metadata": {},
   "outputs": [],
   "source": []
  }
 ],
 "metadata": {
  "kernelspec": {
   "display_name": "Python 3 (ipykernel)",
   "language": "python",
   "name": "python3"
  },
  "language_info": {
   "codemirror_mode": {
    "name": "ipython",
    "version": 3
   },
   "file_extension": ".py",
   "mimetype": "text/x-python",
   "name": "python",
   "nbconvert_exporter": "python",
   "pygments_lexer": "ipython3",
   "version": "3.9.13"
  }
 },
 "nbformat": 4,
 "nbformat_minor": 5
}
